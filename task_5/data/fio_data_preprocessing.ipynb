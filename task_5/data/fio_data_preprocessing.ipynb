{
 "cells": [
  {
   "cell_type": "markdown",
   "id": "5860864d",
   "metadata": {},
   "source": [
    "# Предобработка датасета с ФИО на кириллице"
   ]
  },
  {
   "cell_type": "code",
   "execution_count": 1,
   "id": "0ae20b1f",
   "metadata": {},
   "outputs": [],
   "source": [
    "import pandas as pd\n",
    "import re\n",
    "import json"
   ]
  },
  {
   "cell_type": "code",
   "execution_count": 2,
   "id": "5608aa4f",
   "metadata": {},
   "outputs": [],
   "source": [
    "# Импортируем data.csv и преобразуем в pandas dataframe\n",
    "df = pd.read_csv(\"data.csv\", header=None)\n",
    "# Жестко удаляем все NaN и прочее\n",
    "df = df.dropna()"
   ]
  },
  {
   "cell_type": "code",
   "execution_count": 3,
   "id": "93e740fa",
   "metadata": {},
   "outputs": [],
   "source": [
    "# Необходима минимальная предобработка:\n",
    "# Регулярное выражение предобработки данных ФИО согласно требованиям законодательства РФ\n",
    "regexp_fio = r\"[^а-яА-ЯёЁ'-.,IV()\\s]\"\n",
    "# Регулярное выражение предобработки данных Gender, где должны остаться только М и Ж\n",
    "regexp_gender = r\"[^МЖ]\"\n",
    "# Регулярное выражение предобработки данных для удаления *\n",
    "regexp_star = r\"[*]\""
   ]
  },
  {
   "cell_type": "code",
   "execution_count": 4,
   "id": "fab19737",
   "metadata": {},
   "outputs": [],
   "source": [
    "### OPTIONAL: проверка алгоритма чистки данных\n",
    "# import pandas as pd\n",
    "# df_test = pd.DataFrame({\n",
    "#     'Фамилия': ['Ив1анов', 'П***етров', 'Си_доров'],\n",
    "#     'Имя': ['Иван', 'Петр', 'Сергей'],\n",
    "#     'Отчество': ['Иванович', 'Петрович', 'Сергеевич'],\n",
    "#     'Пол': ['М', 'М', 'М']\n",
    "# })\n",
    "\n",
    "# df_test['Фамилия'] = df_test['Фамилия'].str.replace(r\"[^а-яА-ЯёЁ'-.,IV()\\s]\", '', regex=True).replace(r\"[*]\", '', regex=True)\n",
    "# df_test.head()"
   ]
  },
  {
   "cell_type": "code",
   "execution_count": 5,
   "id": "fd4bdbc9",
   "metadata": {},
   "outputs": [],
   "source": [
    "# Применение алгоритма предобработки к датасету\n",
    "df[0] = df[0].str.replace(regexp_fio, '', regex=True).replace(regexp_star, '', regex=True)\n",
    "df[1] = df[1].str.replace(regexp_fio, '', regex=True).replace(regexp_star, '', regex=True)\n",
    "df[2] = df[2].str.replace(regexp_fio, '', regex=True).replace(regexp_star, '', regex=True)\n",
    "df[3] = df[3].str.replace(regexp_gender, '', regex=True).replace(regexp_star, '', regex=True)"
   ]
  },
  {
   "cell_type": "code",
   "execution_count": 6,
   "id": "ffe8809f",
   "metadata": {},
   "outputs": [
    {
     "data": {
      "text/plain": [
       "Ж    3503762\n",
       "М    2721944\n",
       "           8\n",
       "Name: 3, dtype: int64"
      ]
     },
     "metadata": {},
     "output_type": "display_data"
    }
   ],
   "source": [
    "# Убираем нулевой Gender, в России существует только 2 гендера\n",
    "display(df[3].value_counts())\n",
    "df = df[(df[3] == 'М') | (df[3] == 'Ж')]"
   ]
  },
  {
   "cell_type": "markdown",
   "id": "419a9714",
   "metadata": {},
   "source": [
    "##### Алгоритм предобработки ФИО на примере фамилии, что также будет применено и к ИО"
   ]
  },
  {
   "cell_type": "code",
   "execution_count": 7,
   "id": "5ab7f3f7",
   "metadata": {},
   "outputs": [
    {
     "data": {
      "text/html": [
       "<div>\n",
       "<style scoped>\n",
       "    .dataframe tbody tr th:only-of-type {\n",
       "        vertical-align: middle;\n",
       "    }\n",
       "\n",
       "    .dataframe tbody tr th {\n",
       "        vertical-align: top;\n",
       "    }\n",
       "\n",
       "    .dataframe thead th {\n",
       "        text-align: right;\n",
       "    }\n",
       "</style>\n",
       "<table border=\"1\" class=\"dataframe\">\n",
       "  <thead>\n",
       "    <tr style=\"text-align: right;\">\n",
       "      <th></th>\n",
       "      <th></th>\n",
       "      <th>Количество</th>\n",
       "    </tr>\n",
       "  </thead>\n",
       "  <tbody>\n",
       "    <tr>\n",
       "      <th rowspan=\"2\" valign=\"top\"></th>\n",
       "      <th>Ж</th>\n",
       "      <td>82</td>\n",
       "    </tr>\n",
       "    <tr>\n",
       "      <th>М</th>\n",
       "      <td>5</td>\n",
       "    </tr>\n",
       "    <tr>\n",
       "      <th rowspan=\"2\" valign=\"top\">-</th>\n",
       "      <th>Ж</th>\n",
       "      <td>4</td>\n",
       "    </tr>\n",
       "    <tr>\n",
       "      <th>М</th>\n",
       "      <td>1</td>\n",
       "    </tr>\n",
       "    <tr>\n",
       "      <th>---</th>\n",
       "      <th>Ж</th>\n",
       "      <td>1</td>\n",
       "    </tr>\n",
       "    <tr>\n",
       "      <th>-БАЛАКИНА</th>\n",
       "      <th>Ж</th>\n",
       "      <td>1</td>\n",
       "    </tr>\n",
       "    <tr>\n",
       "      <th>-СОКОЛОВ</th>\n",
       "      <th>М</th>\n",
       "      <td>1</td>\n",
       "    </tr>\n",
       "    <tr>\n",
       "      <th>.ВАНЮШКИН</th>\n",
       "      <th>М</th>\n",
       "      <td>1</td>\n",
       "    </tr>\n",
       "    <tr>\n",
       "      <th>.ИЛЮШКИНА</th>\n",
       "      <th>Ж</th>\n",
       "      <td>1</td>\n",
       "    </tr>\n",
       "    <tr>\n",
       "      <th>.КРЮЧКОВ</th>\n",
       "      <th>М</th>\n",
       "      <td>1</td>\n",
       "    </tr>\n",
       "  </tbody>\n",
       "</table>\n",
       "</div>"
      ],
      "text/plain": [
       "             Количество\n",
       "          Ж          82\n",
       "          М           5\n",
       "-         Ж           4\n",
       "          М           1\n",
       "---       Ж           1\n",
       "-БАЛАКИНА Ж           1\n",
       "-СОКОЛОВ  М           1\n",
       ".ВАНЮШКИН М           1\n",
       ".ИЛЮШКИНА Ж           1\n",
       ".КРЮЧКОВ  М           1"
      ]
     },
     "execution_count": 7,
     "metadata": {},
     "output_type": "execute_result"
    }
   ],
   "source": [
    "# Группируем данные по фамилии и считаем количество встречаемости каждой фамилии\n",
    "grouped = df.groupby([0, 3])\n",
    "counts = grouped[0].count()\n",
    "# Создаем новый DataFrame с результатами\n",
    "result_df = pd.DataFrame({'Фамилия': grouped.groups, 'Количество': counts})\n",
    "# Убираем столбец с типами данных столбца Фамилия\n",
    "result_df = result_df.drop('Фамилия', axis=1)\n",
    "# Выводим полученный DataFrame\n",
    "result_df.head(10)\n",
    "\n",
    "# Дальнейшими предобработками предлагаю пренебречь, так как реализуемый далее алгоритм\n",
    "# исправления ошибок в ФИО очень маловероятно на них наткнется"
   ]
  },
  {
   "cell_type": "code",
   "execution_count": 8,
   "id": "ce4777d2",
   "metadata": {},
   "outputs": [],
   "source": [
    "# Именно в таком виде значения построчно хранятся в файлах .jsonl, столбец количество - показатель релевантности ФИО\n",
    "result_df = result_df.sort_values(\"Количество\", ascending=False)"
   ]
  },
  {
   "cell_type": "code",
   "execution_count": 9,
   "id": "0266764e",
   "metadata": {},
   "outputs": [],
   "source": [
    "# Превращаем в словарь для дальнейшей работы с полученными данными\n",
    "result_dict = result_df.to_dict()"
   ]
  },
  {
   "cell_type": "markdown",
   "id": "20912003",
   "metadata": {},
   "source": [
    "Получаем словарь вида:\n",
    "\n",
    "```\n",
    "{'Количество': {('ИВАНОВА', 'Ж'): 24238,\n",
    "  ('КУЗНЕЦОВА', 'Ж'): 21113,\n",
    "  ('ИВАНОВ', 'М'): 18492,\n",
    "  ...}\n",
    "}\n",
    "```"
   ]
  },
  {
   "cell_type": "code",
   "execution_count": 10,
   "id": "5a787fcd",
   "metadata": {},
   "outputs": [],
   "source": [
    "# Запись в файл формата .jsonl, где структура единичного элемента:\n",
    "# {\"name\": str(), \"gender\": М/Ж, \"relevance\": int()}\n",
    "with open('surname_data.jsonl', 'w', encoding='utf8') as file:\n",
    "    for key, value in result_dict[\"Количество\"].items():\n",
    "        item = {\n",
    "            \"name\": key[0],\n",
    "            \"gender\": key[1],\n",
    "            \"relevance\": value\n",
    "        }\n",
    "        file.write(json.dumps(item, ensure_ascii=False) + '\\n')"
   ]
  },
  {
   "cell_type": "markdown",
   "id": "bf911f44",
   "metadata": {},
   "source": [
    "##### Алгоритм в виде функции"
   ]
  },
  {
   "cell_type": "code",
   "execution_count": 11,
   "id": "85563912",
   "metadata": {},
   "outputs": [],
   "source": [
    "def extract_fio_data_to_jsonl(dataframe, column, filename):\n",
    "    grouped = dataframe.groupby([column, 3])\n",
    "    counts = grouped[column].count()\n",
    "    result_dataframe = pd.DataFrame({'Фамилия': grouped.groups, 'Количество': counts})\n",
    "    result_dataframe = result_dataframe.drop('Фамилия', axis=1)\n",
    "    result_dataframe = result_dataframe.sort_values(\"Количество\", ascending=False)\n",
    "    result_records = result_dataframe.to_dict()\n",
    "    with open(f'{filename}.jsonl', 'w', encoding='utf8') as file:\n",
    "        for key, value in result_records[\"Количество\"].items():\n",
    "            item = {\n",
    "                \"name\": key[0],\n",
    "                \"gender\": key[1],\n",
    "                \"relevance\": value\n",
    "            }\n",
    "            file.write(json.dumps(item, ensure_ascii=False) + '\\n')"
   ]
  },
  {
   "cell_type": "code",
   "execution_count": 12,
   "id": "c8367e68",
   "metadata": {},
   "outputs": [],
   "source": [
    "extract_fio_data_to_jsonl(df, 0, \"surname_data\")\n",
    "extract_fio_data_to_jsonl(df, 1, \"name_data\")\n",
    "extract_fio_data_to_jsonl(df, 2, \"middlename_data\")"
   ]
  }
 ],
 "metadata": {
  "kernelspec": {
   "display_name": "Python 3 (ipykernel)",
   "language": "python",
   "name": "python3"
  },
  "language_info": {
   "codemirror_mode": {
    "name": "ipython",
    "version": 3
   },
   "file_extension": ".py",
   "mimetype": "text/x-python",
   "name": "python",
   "nbconvert_exporter": "python",
   "pygments_lexer": "ipython3",
   "version": "3.9.7"
  }
 },
 "nbformat": 4,
 "nbformat_minor": 5
}
